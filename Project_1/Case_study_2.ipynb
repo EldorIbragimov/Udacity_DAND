{
 "cells": [
  {
   "cell_type": "code",
   "execution_count": 42,
   "metadata": {
    "scrolled": true
   },
   "outputs": [
    {
     "name": "stdout",
     "output_type": "stream",
     "text": [
      "<class 'pandas.core.frame.DataFrame'>\n",
      "RangeIndex: 2682 entries, 0 to 2681\n",
      "Data columns (total 18 columns):\n",
      "Model                   2682 non-null object\n",
      "Displ                   2637 non-null float64\n",
      "Cyl                     2637 non-null float64\n",
      "Trans                   2682 non-null object\n",
      "Drive                   2682 non-null object\n",
      "Fuel                    2682 non-null object\n",
      "Cert Region             2682 non-null object\n",
      "Stnd                    2682 non-null object\n",
      "Stnd Description        2682 non-null object\n",
      "Underhood ID            2682 non-null object\n",
      "Veh Class               2682 non-null object\n",
      "Air Pollution Score     2682 non-null int64\n",
      "City MPG                2682 non-null object\n",
      "Hwy MPG                 2682 non-null object\n",
      "Cmb MPG                 2682 non-null object\n",
      "Greenhouse Gas Score    2682 non-null int64\n",
      "SmartWay                2682 non-null object\n",
      "Comb CO2                2682 non-null object\n",
      "dtypes: float64(2), int64(2), object(14)\n",
      "memory usage: 377.2+ KB\n"
     ]
    }
   ],
   "source": [
    "import pandas as pd\n",
    "\n",
    "xls = pd.read_excel('Project-2/Data/all_alpha_18.xlsx', index_col = None)\n",
    "df = xls.to_csv('all_alpha_18.csv', encoding='utf-8', index=False)\n",
    "df_18 = pd.read_csv('all_alpha_18.csv')\n",
    "\n",
    "df_08.isnull().count()\n",
    "df_18.nunique()\n",
    "df_18.info()"
   ]
  },
  {
   "cell_type": "code",
   "execution_count": 70,
   "metadata": {},
   "outputs": [
    {
     "data": {
      "text/plain": [
       "array(['Gasoline', 'Gasoline/Electricity', 'Diesel', 'Electricity',\n",
       "       'Ethanol/Gas', 'Hydrogen'], dtype=object)"
      ]
     },
     "execution_count": 70,
     "metadata": {},
     "output_type": "execute_result"
    }
   ],
   "source": [
    "xls = pd.read_excel('Project-2/Data/all_alpha_08.xls', index_col = None)\n",
    "df = xls.to_csv('all_alpha_08.csv', encoding='utf-8', index=False)\n",
    "df_08 = pd.read_csv('all_alpha_08.csv')\n",
    "\n",
    "#df_18['Fuel'].nunique()\n",
    "df_18['Fuel'].unique()"
   ]
  },
  {
   "cell_type": "code",
   "execution_count": 71,
   "metadata": {},
   "outputs": [
    {
     "data": {
      "text/plain": [
       "array(['Gasoline', 'ethanol/gas', 'ethanol', 'diesel', 'CNG'],\n",
       "      dtype=object)"
      ]
     },
     "execution_count": 71,
     "metadata": {},
     "output_type": "execute_result"
    }
   ],
   "source": [
    "df_08['Fuel'].unique()\n"
   ]
  }
 ],
 "metadata": {
  "kernelspec": {
   "display_name": "Python 3",
   "language": "python",
   "name": "python3"
  },
  "language_info": {
   "codemirror_mode": {
    "name": "ipython",
    "version": 3
   },
   "file_extension": ".py",
   "mimetype": "text/x-python",
   "name": "python",
   "nbconvert_exporter": "python",
   "pygments_lexer": "ipython3",
   "version": "3.7.1"
  }
 },
 "nbformat": 4,
 "nbformat_minor": 2
}
