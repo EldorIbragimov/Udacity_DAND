{
 "cells": [
  {
   "cell_type": "code",
   "execution_count": 1,
   "metadata": {},
   "outputs": [],
   "source": [
    "import numpy as np\n",
    "import pandas as pd\n",
    "import matplotlib.pyplot as plt\n",
    "%matplotlib inline"
   ]
  },
  {
   "cell_type": "code",
   "execution_count": 2,
   "metadata": {},
   "outputs": [
    {
     "name": "stdout",
     "output_type": "stream",
     "text": [
      "<class 'pandas.core.frame.DataFrame'>\n",
      "RangeIndex: 10866 entries, 0 to 10865\n",
      "Data columns (total 21 columns):\n",
      "id                      10866 non-null int64\n",
      "imdb_id                 10856 non-null object\n",
      "popularity              10866 non-null float64\n",
      "budget                  10866 non-null int64\n",
      "revenue                 10866 non-null int64\n",
      "original_title          10866 non-null object\n",
      "cast                    10790 non-null object\n",
      "homepage                2936 non-null object\n",
      "director                10822 non-null object\n",
      "tagline                 8042 non-null object\n",
      "keywords                9373 non-null object\n",
      "overview                10862 non-null object\n",
      "runtime                 10866 non-null int64\n",
      "genres                  10843 non-null object\n",
      "production_companies    9836 non-null object\n",
      "release_date            10866 non-null object\n",
      "vote_count              10866 non-null int64\n",
      "vote_average            10866 non-null float64\n",
      "release_year            10866 non-null int64\n",
      "budget_adj              10866 non-null float64\n",
      "revenue_adj             10866 non-null float64\n",
      "dtypes: float64(4), int64(6), object(11)\n",
      "memory usage: 1.7+ MB\n"
     ]
    }
   ],
   "source": [
    "df = pd.read_csv('Data/tmdb-movies.csv')\n",
    "df.info()"
   ]
  },
  {
   "cell_type": "markdown",
   "metadata": {},
   "source": [
    "### What keyword was the most popular?"
   ]
  },
  {
   "cell_type": "code",
   "execution_count": null,
   "metadata": {},
   "outputs": [],
   "source": [
    "kword = df['keywords']\n",
    "kword.head(10)"
   ]
  },
  {
   "cell_type": "code",
   "execution_count": null,
   "metadata": {
    "scrolled": true
   },
   "outputs": [],
   "source": [
    "kword.isnull().sum()"
   ]
  },
  {
   "cell_type": "code",
   "execution_count": null,
   "metadata": {},
   "outputs": [],
   "source": [
    "a = []\n",
    "for i in range(len(kword)):\n",
    "    lis = str(kword[i]).split('|')\n",
    "    for j in range(len(lis)):\n",
    "        a.append(lis[j])\n",
    "a "
   ]
  },
  {
   "cell_type": "code",
   "execution_count": null,
   "metadata": {},
   "outputs": [],
   "source": [
    "elem, idx,  count = np.unique(a, return_index = True, return_counts = True)\n",
    "elem"
   ]
  },
  {
   "cell_type": "code",
   "execution_count": null,
   "metadata": {
    "scrolled": true
   },
   "outputs": [],
   "source": [
    "max_k = pd.DataFrame(count)\n",
    "max_k.columns = ['a']\n",
    "max_k['keywords'] = elem\n",
    "#max_k.drop('nan')\n",
    "##max_k..drop('nan')\n",
    "j = max_k\n",
    "final = j.sort_values('a', ascending = False)[1:10]"
   ]
  },
  {
   "cell_type": "code",
   "execution_count": null,
   "metadata": {},
   "outputs": [],
   "source": [
    "final"
   ]
  },
  {
   "cell_type": "code",
   "execution_count": null,
   "metadata": {},
   "outputs": [],
   "source": [
    "plt.bar(final['keywords'], final['a'])\n",
    "plt.xticks(rotation=90)"
   ]
  },
  {
   "cell_type": "code",
   "execution_count": 4,
   "metadata": {},
   "outputs": [
    {
     "data": {
      "text/plain": [
       "0        Chris Pratt|Bryce Dallas Howard|Irrfan Khan|Vi...\n",
       "1        Tom Hardy|Charlize Theron|Hugh Keays-Byrne|Nic...\n",
       "2        Shailene Woodley|Theo James|Kate Winslet|Ansel...\n",
       "3        Harrison Ford|Mark Hamill|Carrie Fisher|Adam D...\n",
       "4        Vin Diesel|Paul Walker|Jason Statham|Michelle ...\n",
       "5        Leonardo DiCaprio|Tom Hardy|Will Poulter|Domhn...\n",
       "6        Arnold Schwarzenegger|Jason Clarke|Emilia Clar...\n",
       "7        Matt Damon|Jessica Chastain|Kristen Wiig|Jeff ...\n",
       "8        Sandra Bullock|Jon Hamm|Michael Keaton|Allison...\n",
       "9        Amy Poehler|Phyllis Smith|Richard Kind|Bill Ha...\n",
       "10       Daniel Craig|Christoph Waltz|LÃ©a Seydoux|Ralp...\n",
       "11       Mila Kunis|Channing Tatum|Sean Bean|Eddie Redm...\n",
       "12       Domhnall Gleeson|Alicia Vikander|Oscar Isaac|S...\n",
       "13       Adam Sandler|Michelle Monaghan|Peter Dinklage|...\n",
       "14       Robert Downey Jr.|Chris Hemsworth|Mark Ruffalo...\n",
       "15       Samuel L. Jackson|Kurt Russell|Jennifer Jason ...\n",
       "16       Liam Neeson|Forest Whitaker|Maggie Grace|Famke...\n",
       "17       Paul Rudd|Michael Douglas|Evangeline Lilly|Cor...\n",
       "18       Lily James|Cate Blanchett|Richard Madden|Helen...\n",
       "19       Jennifer Lawrence|Josh Hutcherson|Liam Hemswor...\n",
       "20       Britt Robertson|George Clooney|Raffey Cassidy|...\n",
       "21       Jake Gyllenhaal|Rachel McAdams|Forest Whitaker...\n",
       "22       Dwayne Johnson|Alexandra Daddario|Carla Gugino...\n",
       "23       Dakota Johnson|Jamie Dornan|Jennifer Ehle|Eloi...\n",
       "24       Christian Bale|Steve Carell|Ryan Gosling|Brad ...\n",
       "25       Tom Cruise|Jeremy Renner|Simon Pegg|Rebecca Fe...\n",
       "26       Mark Wahlberg|Seth MacFarlane|Amanda Seyfried|...\n",
       "27       Taron Egerton|Colin Firth|Samuel L. Jackson|Mi...\n",
       "28       Mark Ruffalo|Michael Keaton|Rachel McAdams|Lie...\n",
       "29       Dylan O'Brien|Kaya Scodelario|Thomas Brodie-Sa...\n",
       "                               ...                        \n",
       "10836    Cary Grant|Samantha Eggar|Jim Hutton|John Stan...\n",
       "10837    George Peppard|James Mason|Ursula Andress|Jere...\n",
       "10838    Burt Lancaster|Lee Marvin|Robert Ryan|Woody St...\n",
       "10839    Christopher Shea|Sally Dryer|Kathy Steinberg|A...\n",
       "10840    Michael Caine|Paul Hubschmid|Oskar Homolka|Eva...\n",
       "10841    Will Hutchins|Millie Perkins|Jack Nicholson|Wa...\n",
       "10842    Sterling Holloway|Junius Matthews|Sebastian Ca...\n",
       "10843    Charlton Heston|Laurence Olivier|Richard Johns...\n",
       "10844    James Coburn|Lee J. Cobb|Gila Golan|Edward Mul...\n",
       "10845    Sid James|Jim Dale|Angela Douglas|Kenneth Will...\n",
       "10846    Christopher Lee|Barbara Shelley|Andrew Keir|Fr...\n",
       "10847    Peter Cushing|Edward Judd|Carole Gray|Eddie By...\n",
       "10848    Stephen Boyd|Raquel Welch|Edmond O'Brien|Donal...\n",
       "10849    Michael Caine|Shirley MacLaine|Herbert Lom|Joh...\n",
       "10850    Paul Newman|Lauren Bacall|Julie Harris|Arthur ...\n",
       "10851    Virginia McKenna|Bill Travers|Geoffrey Keen|Pe...\n",
       "10852    Henry Fonda|Joanne Woodward|Jason Robards|Paul...\n",
       "10853    Michael Caine|Shelley Winters|Millicent Martin...\n",
       "10854    Marlon Brando|Jane Fonda|Robert Redford|E.G. M...\n",
       "10855    Don Knotts|Joan Staley|Liam Redmond|Dick Sarge...\n",
       "10856    Dean Jones|Suzanne Pleshette|Charles Ruggles|K...\n",
       "10857    Steve McQueen|Karl Malden|Brian Keith|Arthur K...\n",
       "10858    Carl Reiner|Eva Marie Saint|Alan Arkin|Brian K...\n",
       "10859    Rock Hudson|Salome Jens|John Randolph|Will Gee...\n",
       "10860    Kenneth Williams|Jim Dale|Harry H. Corbett|Joa...\n",
       "10861    Michael Hynson|Robert August|Lord 'Tally Ho' B...\n",
       "10862    James Garner|Eva Marie Saint|Yves Montand|Tosh...\n",
       "10863    Innokentiy Smoktunovskiy|Oleg Efremov|Georgi Z...\n",
       "10864    Tatsuya Mihashi|Akiko Wakabayashi|Mie Hama|Joh...\n",
       "10865    Harold P. Warren|Tom Neyman|John Reynolds|Dian...\n",
       "Name: cast, Length: 10866, dtype: object"
      ]
     },
     "execution_count": 4,
     "metadata": {},
     "output_type": "execute_result"
    }
   ],
   "source": [
    "df['cast']"
   ]
  }
 ],
 "metadata": {
  "kernelspec": {
   "display_name": "Python 3",
   "language": "python",
   "name": "python3"
  },
  "language_info": {
   "codemirror_mode": {
    "name": "ipython",
    "version": 3
   },
   "file_extension": ".py",
   "mimetype": "text/x-python",
   "name": "python",
   "nbconvert_exporter": "python",
   "pygments_lexer": "ipython3",
   "version": "3.7.1"
  }
 },
 "nbformat": 4,
 "nbformat_minor": 2
}
